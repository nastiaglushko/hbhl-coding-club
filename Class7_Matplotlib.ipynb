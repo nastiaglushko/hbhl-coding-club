{
 "cells": [
  {
   "cell_type": "markdown",
   "metadata": {},
   "source": [
    "# Plotting in Matplotlib: practice exercises\n",
    "\n",
    "We will be using real-life data today to add figures to a figureless paper on theory of mind in bipolar disorder. The dataset itself + a short description of it is available at https://www.kaggle.com/mercheovejero/theory-of-mind-in-remitted-bipolar-disorder.\n",
    "\n",
    "The journal article and a dataset with some additional info can be found here: https://doi.org/10.1371/journal.pone.0222112"
   ]
  },
  {
   "cell_type": "markdown",
   "metadata": {},
   "source": [
    "\n",
    "\n",
    "## Task 0: Arrange your data frame:\n",
    "\n",
    "Load the data from the file available on Kaggle and the data from the PLOS ONE website. Integrate the additional data from the PLOS ONE dataset into the Kaggle data frame.\n",
    "\n",
    "*Hint 1*: mind the separators; think of using a lambda function.\n",
    "\n",
    "*Hint 2*: The order of the rows in the two files is identical!"
   ]
  },
  {
   "cell_type": "code",
   "execution_count": 1,
   "metadata": {},
   "outputs": [],
   "source": [
    "import pandas as pd\n",
    "from matplotlib import pyplot as plt\n",
    "import numpy as np"
   ]
  },
  {
   "cell_type": "code",
   "execution_count": 2,
   "metadata": {},
   "outputs": [],
   "source": [
    "df_kaggle = pd.read_csv('Database MiniPONS.csv', delimiter = ';')\n",
    "df_plosone = pd.read_csv('journal.pone.0222112.s001.csv', delimiter = ';')"
   ]
  },
  {
   "cell_type": "code",
   "execution_count": 3,
   "metadata": {},
   "outputs": [
    {
     "data": {
      "text/html": [
       "<div>\n",
       "<style scoped>\n",
       "    .dataframe tbody tr th:only-of-type {\n",
       "        vertical-align: middle;\n",
       "    }\n",
       "\n",
       "    .dataframe tbody tr th {\n",
       "        vertical-align: top;\n",
       "    }\n",
       "\n",
       "    .dataframe thead th {\n",
       "        text-align: right;\n",
       "    }\n",
       "</style>\n",
       "<table border=\"1\" class=\"dataframe\">\n",
       "  <thead>\n",
       "    <tr style=\"text-align: right;\">\n",
       "      <th></th>\n",
       "      <th>Sexo</th>\n",
       "      <th>Grupo</th>\n",
       "      <th>Tipobipolar</th>\n",
       "      <th>Edad</th>\n",
       "      <th>PONS99</th>\n",
       "      <th>PONS_CAUP</th>\n",
       "      <th>PONS_CCOM</th>\n",
       "      <th>PONS_CVCA</th>\n",
       "      <th>PONS_CVCU</th>\n",
       "      <th>PONS_VPOS</th>\n",
       "      <th>PONS_VNEG</th>\n",
       "      <th>PONS_DDOM</th>\n",
       "      <th>PONS_DSUM</th>\n",
       "    </tr>\n",
       "  </thead>\n",
       "  <tbody>\n",
       "    <tr>\n",
       "      <th>0</th>\n",
       "      <td>Mujer</td>\n",
       "      <td>Bipolar</td>\n",
       "      <td>TB I</td>\n",
       "      <td>47</td>\n",
       "      <td>40</td>\n",
       "      <td>9</td>\n",
       "      <td>11</td>\n",
       "      <td>9</td>\n",
       "      <td>11</td>\n",
       "      <td>18</td>\n",
       "      <td>22</td>\n",
       "      <td>23</td>\n",
       "      <td>17</td>\n",
       "    </tr>\n",
       "    <tr>\n",
       "      <th>1</th>\n",
       "      <td>Mujer</td>\n",
       "      <td>Bipolar</td>\n",
       "      <td>TB I</td>\n",
       "      <td>49</td>\n",
       "      <td>49</td>\n",
       "      <td>13</td>\n",
       "      <td>13</td>\n",
       "      <td>11</td>\n",
       "      <td>12</td>\n",
       "      <td>24</td>\n",
       "      <td>25</td>\n",
       "      <td>24</td>\n",
       "      <td>25</td>\n",
       "    </tr>\n",
       "    <tr>\n",
       "      <th>2</th>\n",
       "      <td>Hombre</td>\n",
       "      <td>Bipolar</td>\n",
       "      <td>TB I</td>\n",
       "      <td>45</td>\n",
       "      <td>43</td>\n",
       "      <td>9</td>\n",
       "      <td>11</td>\n",
       "      <td>13</td>\n",
       "      <td>10</td>\n",
       "      <td>21</td>\n",
       "      <td>22</td>\n",
       "      <td>24</td>\n",
       "      <td>19</td>\n",
       "    </tr>\n",
       "    <tr>\n",
       "      <th>3</th>\n",
       "      <td>Mujer</td>\n",
       "      <td>Bipolar</td>\n",
       "      <td>TB I</td>\n",
       "      <td>53</td>\n",
       "      <td>44</td>\n",
       "      <td>10</td>\n",
       "      <td>10</td>\n",
       "      <td>12</td>\n",
       "      <td>12</td>\n",
       "      <td>25</td>\n",
       "      <td>19</td>\n",
       "      <td>24</td>\n",
       "      <td>20</td>\n",
       "    </tr>\n",
       "    <tr>\n",
       "      <th>4</th>\n",
       "      <td>Hombre</td>\n",
       "      <td>Bipolar</td>\n",
       "      <td>TB II</td>\n",
       "      <td>50</td>\n",
       "      <td>50</td>\n",
       "      <td>14</td>\n",
       "      <td>13</td>\n",
       "      <td>11</td>\n",
       "      <td>12</td>\n",
       "      <td>23</td>\n",
       "      <td>27</td>\n",
       "      <td>23</td>\n",
       "      <td>27</td>\n",
       "    </tr>\n",
       "  </tbody>\n",
       "</table>\n",
       "</div>"
      ],
      "text/plain": [
       "     Sexo    Grupo Tipobipolar  Edad  PONS99  PONS_CAUP  PONS_CCOM  PONS_CVCA  \\\n",
       "0   Mujer  Bipolar        TB I    47      40          9         11          9   \n",
       "1   Mujer  Bipolar        TB I    49      49         13         13         11   \n",
       "2  Hombre  Bipolar        TB I    45      43          9         11         13   \n",
       "3   Mujer  Bipolar        TB I    53      44         10         10         12   \n",
       "4  Hombre  Bipolar       TB II    50      50         14         13         11   \n",
       "\n",
       "   PONS_CVCU  PONS_VPOS  PONS_VNEG  PONS_DDOM  PONS_DSUM  \n",
       "0         11         18         22         23         17  \n",
       "1         12         24         25         24         25  \n",
       "2         10         21         22         24         19  \n",
       "3         12         25         19         24         20  \n",
       "4         12         23         27         23         27  "
      ]
     },
     "execution_count": 3,
     "metadata": {},
     "output_type": "execute_result"
    }
   ],
   "source": [
    "df_plosone.head()"
   ]
  },
  {
   "cell_type": "code",
   "execution_count": 4,
   "metadata": {},
   "outputs": [
    {
     "data": {
      "text/html": [
       "<div>\n",
       "<style scoped>\n",
       "    .dataframe tbody tr th:only-of-type {\n",
       "        vertical-align: middle;\n",
       "    }\n",
       "\n",
       "    .dataframe tbody tr th {\n",
       "        vertical-align: top;\n",
       "    }\n",
       "\n",
       "    .dataframe thead th {\n",
       "        text-align: right;\n",
       "    }\n",
       "</style>\n",
       "<table border=\"1\" class=\"dataframe\">\n",
       "  <thead>\n",
       "    <tr style=\"text-align: right;\">\n",
       "      <th></th>\n",
       "      <th>Group</th>\n",
       "      <th>Type</th>\n",
       "      <th>Age</th>\n",
       "      <th>Right_answers</th>\n",
       "      <th>Audio_prosody</th>\n",
       "      <th>Combined_channel</th>\n",
       "      <th>Face_video</th>\n",
       "      <th>Body_video</th>\n",
       "      <th>Positive_valence</th>\n",
       "      <th>Negative_valence</th>\n",
       "      <th>Dominant</th>\n",
       "      <th>Submissive</th>\n",
       "    </tr>\n",
       "  </thead>\n",
       "  <tbody>\n",
       "    <tr>\n",
       "      <th>0</th>\n",
       "      <td>Bipolar</td>\n",
       "      <td>BD I</td>\n",
       "      <td>47</td>\n",
       "      <td>40</td>\n",
       "      <td>9</td>\n",
       "      <td>11</td>\n",
       "      <td>9</td>\n",
       "      <td>11</td>\n",
       "      <td>18</td>\n",
       "      <td>22</td>\n",
       "      <td>23</td>\n",
       "      <td>17</td>\n",
       "    </tr>\n",
       "    <tr>\n",
       "      <th>1</th>\n",
       "      <td>Bipolar</td>\n",
       "      <td>BD I</td>\n",
       "      <td>49</td>\n",
       "      <td>49</td>\n",
       "      <td>13</td>\n",
       "      <td>13</td>\n",
       "      <td>11</td>\n",
       "      <td>12</td>\n",
       "      <td>24</td>\n",
       "      <td>25</td>\n",
       "      <td>24</td>\n",
       "      <td>25</td>\n",
       "    </tr>\n",
       "    <tr>\n",
       "      <th>2</th>\n",
       "      <td>Bipolar</td>\n",
       "      <td>BD I</td>\n",
       "      <td>45</td>\n",
       "      <td>43</td>\n",
       "      <td>9</td>\n",
       "      <td>11</td>\n",
       "      <td>13</td>\n",
       "      <td>10</td>\n",
       "      <td>21</td>\n",
       "      <td>22</td>\n",
       "      <td>24</td>\n",
       "      <td>19</td>\n",
       "    </tr>\n",
       "    <tr>\n",
       "      <th>3</th>\n",
       "      <td>Bipolar</td>\n",
       "      <td>BD I</td>\n",
       "      <td>53</td>\n",
       "      <td>44</td>\n",
       "      <td>10</td>\n",
       "      <td>10</td>\n",
       "      <td>12</td>\n",
       "      <td>12</td>\n",
       "      <td>25</td>\n",
       "      <td>19</td>\n",
       "      <td>24</td>\n",
       "      <td>20</td>\n",
       "    </tr>\n",
       "    <tr>\n",
       "      <th>4</th>\n",
       "      <td>Bipolar</td>\n",
       "      <td>BD II</td>\n",
       "      <td>50</td>\n",
       "      <td>50</td>\n",
       "      <td>14</td>\n",
       "      <td>13</td>\n",
       "      <td>11</td>\n",
       "      <td>12</td>\n",
       "      <td>23</td>\n",
       "      <td>27</td>\n",
       "      <td>23</td>\n",
       "      <td>27</td>\n",
       "    </tr>\n",
       "  </tbody>\n",
       "</table>\n",
       "</div>"
      ],
      "text/plain": [
       "     Group   Type  Age  Right_answers  Audio_prosody  Combined_channel  \\\n",
       "0  Bipolar   BD I   47             40              9                11   \n",
       "1  Bipolar   BD I   49             49             13                13   \n",
       "2  Bipolar   BD I   45             43              9                11   \n",
       "3  Bipolar   BD I   53             44             10                10   \n",
       "4  Bipolar  BD II   50             50             14                13   \n",
       "\n",
       "   Face_video  Body_video  Positive_valence  Negative_valence  Dominant  \\\n",
       "0           9          11                18                22        23   \n",
       "1          11          12                24                25        24   \n",
       "2          13          10                21                22        24   \n",
       "3          12          12                25                19        24   \n",
       "4          11          12                23                27        23   \n",
       "\n",
       "   Submissive  \n",
       "0          17  \n",
       "1          25  \n",
       "2          19  \n",
       "3          20  \n",
       "4          27  "
      ]
     },
     "execution_count": 4,
     "metadata": {},
     "output_type": "execute_result"
    }
   ],
   "source": [
    "df_kaggle.head()"
   ]
  },
  {
   "cell_type": "markdown",
   "metadata": {},
   "source": [
    "Column *Sexo* is missing from df_kaggle, so we're going to:\n",
    "- add it to df_kaggle from df_plosone;\n",
    "- translate 'Mujer' ('Woman') and 'Hombre' ('Man') to English.\n",
    "\n",
    "For translating, you can use a lambda function or a pandas .replace method (https://pandas.pydata.org/pandas-docs/stable/reference/api/pandas.DataFrame.replace.html). But let's practice lambda functions.\n",
    "\n",
    "You have 2 options for applying a lambda function on a column in a dataframe:"
   ]
  },
  {
   "cell_type": "code",
   "execution_count": 5,
   "metadata": {},
   "outputs": [
    {
     "data": {
      "text/html": [
       "<div>\n",
       "<style scoped>\n",
       "    .dataframe tbody tr th:only-of-type {\n",
       "        vertical-align: middle;\n",
       "    }\n",
       "\n",
       "    .dataframe tbody tr th {\n",
       "        vertical-align: top;\n",
       "    }\n",
       "\n",
       "    .dataframe thead th {\n",
       "        text-align: right;\n",
       "    }\n",
       "</style>\n",
       "<table border=\"1\" class=\"dataframe\">\n",
       "  <thead>\n",
       "    <tr style=\"text-align: right;\">\n",
       "      <th></th>\n",
       "      <th>Group</th>\n",
       "      <th>Type</th>\n",
       "      <th>Age</th>\n",
       "      <th>Right_answers</th>\n",
       "      <th>Audio_prosody</th>\n",
       "      <th>Combined_channel</th>\n",
       "      <th>Face_video</th>\n",
       "      <th>Body_video</th>\n",
       "      <th>Positive_valence</th>\n",
       "      <th>Negative_valence</th>\n",
       "      <th>Dominant</th>\n",
       "      <th>Submissive</th>\n",
       "      <th>Gender</th>\n",
       "    </tr>\n",
       "  </thead>\n",
       "  <tbody>\n",
       "    <tr>\n",
       "      <th>0</th>\n",
       "      <td>Bipolar</td>\n",
       "      <td>BD I</td>\n",
       "      <td>47</td>\n",
       "      <td>40</td>\n",
       "      <td>9</td>\n",
       "      <td>11</td>\n",
       "      <td>9</td>\n",
       "      <td>11</td>\n",
       "      <td>18</td>\n",
       "      <td>22</td>\n",
       "      <td>23</td>\n",
       "      <td>17</td>\n",
       "      <td>W</td>\n",
       "    </tr>\n",
       "    <tr>\n",
       "      <th>1</th>\n",
       "      <td>Bipolar</td>\n",
       "      <td>BD I</td>\n",
       "      <td>49</td>\n",
       "      <td>49</td>\n",
       "      <td>13</td>\n",
       "      <td>13</td>\n",
       "      <td>11</td>\n",
       "      <td>12</td>\n",
       "      <td>24</td>\n",
       "      <td>25</td>\n",
       "      <td>24</td>\n",
       "      <td>25</td>\n",
       "      <td>W</td>\n",
       "    </tr>\n",
       "    <tr>\n",
       "      <th>2</th>\n",
       "      <td>Bipolar</td>\n",
       "      <td>BD I</td>\n",
       "      <td>45</td>\n",
       "      <td>43</td>\n",
       "      <td>9</td>\n",
       "      <td>11</td>\n",
       "      <td>13</td>\n",
       "      <td>10</td>\n",
       "      <td>21</td>\n",
       "      <td>22</td>\n",
       "      <td>24</td>\n",
       "      <td>19</td>\n",
       "      <td>M</td>\n",
       "    </tr>\n",
       "    <tr>\n",
       "      <th>3</th>\n",
       "      <td>Bipolar</td>\n",
       "      <td>BD I</td>\n",
       "      <td>53</td>\n",
       "      <td>44</td>\n",
       "      <td>10</td>\n",
       "      <td>10</td>\n",
       "      <td>12</td>\n",
       "      <td>12</td>\n",
       "      <td>25</td>\n",
       "      <td>19</td>\n",
       "      <td>24</td>\n",
       "      <td>20</td>\n",
       "      <td>W</td>\n",
       "    </tr>\n",
       "    <tr>\n",
       "      <th>4</th>\n",
       "      <td>Bipolar</td>\n",
       "      <td>BD II</td>\n",
       "      <td>50</td>\n",
       "      <td>50</td>\n",
       "      <td>14</td>\n",
       "      <td>13</td>\n",
       "      <td>11</td>\n",
       "      <td>12</td>\n",
       "      <td>23</td>\n",
       "      <td>27</td>\n",
       "      <td>23</td>\n",
       "      <td>27</td>\n",
       "      <td>M</td>\n",
       "    </tr>\n",
       "  </tbody>\n",
       "</table>\n",
       "</div>"
      ],
      "text/plain": [
       "     Group   Type  Age  Right_answers  Audio_prosody  Combined_channel  \\\n",
       "0  Bipolar   BD I   47             40              9                11   \n",
       "1  Bipolar   BD I   49             49             13                13   \n",
       "2  Bipolar   BD I   45             43              9                11   \n",
       "3  Bipolar   BD I   53             44             10                10   \n",
       "4  Bipolar  BD II   50             50             14                13   \n",
       "\n",
       "   Face_video  Body_video  Positive_valence  Negative_valence  Dominant  \\\n",
       "0           9          11                18                22        23   \n",
       "1          11          12                24                25        24   \n",
       "2          13          10                21                22        24   \n",
       "3          12          12                25                19        24   \n",
       "4          11          12                23                27        23   \n",
       "\n",
       "   Submissive Gender  \n",
       "0          17      W  \n",
       "1          25      W  \n",
       "2          19      M  \n",
       "3          20      W  \n",
       "4          27      M  "
      ]
     },
     "execution_count": 5,
     "metadata": {},
     "output_type": "execute_result"
    }
   ],
   "source": [
    "# option 1: df.column_name.apply(lambda_function_applied_on_single_cells_in_column)\n",
    "#df_kaggle['Gender'] = df_plosone.Sexo.apply(lambda x: 'W' if x == 'Mujer' else 'M')\n",
    "# option 2: df.apply(lambda_function_applied_on_rows_in_df, axis=1)\n",
    "df_kaggle['Gender'] = df_plosone.apply(lambda row: 'W' if row.Sexo == 'Mujer' else 'M', axis = 1)\n",
    "df_kaggle.head()"
   ]
  },
  {
   "cell_type": "code",
   "execution_count": 6,
   "metadata": {},
   "outputs": [],
   "source": [
    "df = df_kaggle.copy()"
   ]
  },
  {
   "cell_type": "markdown",
   "metadata": {},
   "source": [
    "## Task 1. Print out summary statistics:\n",
    "- Across groups: means and SDs, etc. Just to know what sort of values we're working with.\n",
    "- Per group. Do it different ways (try .groupby, .aggregate, use a for loop)\n",
    "- Save as .csv (.to_csv)"
   ]
  },
  {
   "cell_type": "markdown",
   "metadata": {},
   "source": [
    "### ~ Summary statistics across groups"
   ]
  },
  {
   "cell_type": "code",
   "execution_count": 7,
   "metadata": {},
   "outputs": [
    {
     "data": {
      "text/html": [
       "<div>\n",
       "<style scoped>\n",
       "    .dataframe tbody tr th:only-of-type {\n",
       "        vertical-align: middle;\n",
       "    }\n",
       "\n",
       "    .dataframe tbody tr th {\n",
       "        vertical-align: top;\n",
       "    }\n",
       "\n",
       "    .dataframe thead th {\n",
       "        text-align: right;\n",
       "    }\n",
       "</style>\n",
       "<table border=\"1\" class=\"dataframe\">\n",
       "  <thead>\n",
       "    <tr style=\"text-align: right;\">\n",
       "      <th></th>\n",
       "      <th>Age</th>\n",
       "      <th>Right_answers</th>\n",
       "      <th>Audio_prosody</th>\n",
       "      <th>Combined_channel</th>\n",
       "      <th>Face_video</th>\n",
       "      <th>Body_video</th>\n",
       "      <th>Positive_valence</th>\n",
       "      <th>Negative_valence</th>\n",
       "      <th>Dominant</th>\n",
       "      <th>Submissive</th>\n",
       "    </tr>\n",
       "  </thead>\n",
       "  <tbody>\n",
       "    <tr>\n",
       "      <th>count</th>\n",
       "      <td>277.0</td>\n",
       "      <td>277.0</td>\n",
       "      <td>277.0</td>\n",
       "      <td>277.0</td>\n",
       "      <td>277.0</td>\n",
       "      <td>277.0</td>\n",
       "      <td>277.0</td>\n",
       "      <td>277.0</td>\n",
       "      <td>277.0</td>\n",
       "      <td>277.0</td>\n",
       "    </tr>\n",
       "    <tr>\n",
       "      <th>mean</th>\n",
       "      <td>48.7</td>\n",
       "      <td>47.1</td>\n",
       "      <td>11.4</td>\n",
       "      <td>12.3</td>\n",
       "      <td>11.8</td>\n",
       "      <td>11.5</td>\n",
       "      <td>23.6</td>\n",
       "      <td>23.5</td>\n",
       "      <td>23.5</td>\n",
       "      <td>23.6</td>\n",
       "    </tr>\n",
       "    <tr>\n",
       "      <th>std</th>\n",
       "      <td>12.5</td>\n",
       "      <td>5.2</td>\n",
       "      <td>2.1</td>\n",
       "      <td>1.9</td>\n",
       "      <td>1.7</td>\n",
       "      <td>1.9</td>\n",
       "      <td>3.2</td>\n",
       "      <td>3.1</td>\n",
       "      <td>3.1</td>\n",
       "      <td>3.0</td>\n",
       "    </tr>\n",
       "    <tr>\n",
       "      <th>min</th>\n",
       "      <td>21.0</td>\n",
       "      <td>28.0</td>\n",
       "      <td>3.0</td>\n",
       "      <td>6.0</td>\n",
       "      <td>8.0</td>\n",
       "      <td>5.0</td>\n",
       "      <td>13.0</td>\n",
       "      <td>10.0</td>\n",
       "      <td>12.0</td>\n",
       "      <td>13.0</td>\n",
       "    </tr>\n",
       "    <tr>\n",
       "      <th>25%</th>\n",
       "      <td>39.0</td>\n",
       "      <td>44.0</td>\n",
       "      <td>10.0</td>\n",
       "      <td>11.0</td>\n",
       "      <td>11.0</td>\n",
       "      <td>10.0</td>\n",
       "      <td>22.0</td>\n",
       "      <td>22.0</td>\n",
       "      <td>22.0</td>\n",
       "      <td>22.0</td>\n",
       "    </tr>\n",
       "    <tr>\n",
       "      <th>50%</th>\n",
       "      <td>50.0</td>\n",
       "      <td>47.0</td>\n",
       "      <td>12.0</td>\n",
       "      <td>12.0</td>\n",
       "      <td>12.0</td>\n",
       "      <td>12.0</td>\n",
       "      <td>24.0</td>\n",
       "      <td>24.0</td>\n",
       "      <td>24.0</td>\n",
       "      <td>24.0</td>\n",
       "    </tr>\n",
       "    <tr>\n",
       "      <th>75%</th>\n",
       "      <td>58.0</td>\n",
       "      <td>51.0</td>\n",
       "      <td>13.0</td>\n",
       "      <td>14.0</td>\n",
       "      <td>13.0</td>\n",
       "      <td>13.0</td>\n",
       "      <td>26.0</td>\n",
       "      <td>26.0</td>\n",
       "      <td>26.0</td>\n",
       "      <td>26.0</td>\n",
       "    </tr>\n",
       "    <tr>\n",
       "      <th>max</th>\n",
       "      <td>78.0</td>\n",
       "      <td>58.0</td>\n",
       "      <td>16.0</td>\n",
       "      <td>16.0</td>\n",
       "      <td>15.0</td>\n",
       "      <td>16.0</td>\n",
       "      <td>30.0</td>\n",
       "      <td>30.0</td>\n",
       "      <td>31.0</td>\n",
       "      <td>30.0</td>\n",
       "    </tr>\n",
       "  </tbody>\n",
       "</table>\n",
       "</div>"
      ],
      "text/plain": [
       "         Age  Right_answers  Audio_prosody  Combined_channel  Face_video  \\\n",
       "count  277.0          277.0          277.0             277.0       277.0   \n",
       "mean    48.7           47.1           11.4              12.3        11.8   \n",
       "std     12.5            5.2            2.1               1.9         1.7   \n",
       "min     21.0           28.0            3.0               6.0         8.0   \n",
       "25%     39.0           44.0           10.0              11.0        11.0   \n",
       "50%     50.0           47.0           12.0              12.0        12.0   \n",
       "75%     58.0           51.0           13.0              14.0        13.0   \n",
       "max     78.0           58.0           16.0              16.0        15.0   \n",
       "\n",
       "       Body_video  Positive_valence  Negative_valence  Dominant  Submissive  \n",
       "count       277.0             277.0             277.0     277.0       277.0  \n",
       "mean         11.5              23.6              23.5      23.5        23.6  \n",
       "std           1.9               3.2               3.1       3.1         3.0  \n",
       "min           5.0              13.0              10.0      12.0        13.0  \n",
       "25%          10.0              22.0              22.0      22.0        22.0  \n",
       "50%          12.0              24.0              24.0      24.0        24.0  \n",
       "75%          13.0              26.0              26.0      26.0        26.0  \n",
       "max          16.0              30.0              30.0      31.0        30.0  "
      ]
     },
     "execution_count": 7,
     "metadata": {},
     "output_type": "execute_result"
    }
   ],
   "source": [
    "df.describe().round(1)\n",
    "# .round(1) just rounds the values in the .describe() output to 1 decimal point but it's optional"
   ]
  },
  {
   "cell_type": "markdown",
   "metadata": {},
   "source": [
    "You can always print descriptives separately. Here are examples for means and standard deviations, for the rest - check pandas reference page: https://pandas.pydata.org/docs/reference/frame.html"
   ]
  },
  {
   "cell_type": "code",
   "execution_count": 8,
   "metadata": {},
   "outputs": [
    {
     "data": {
      "text/plain": [
       "Age                 48.718412\n",
       "Right_answers       47.079422\n",
       "Audio_prosody       11.425993\n",
       "Combined_channel    12.339350\n",
       "Face_video          11.794224\n",
       "Body_video          11.519856\n",
       "Positive_valence    23.555957\n",
       "Negative_valence    23.523466\n",
       "Dominant            23.454874\n",
       "Submissive          23.624549\n",
       "dtype: float64"
      ]
     },
     "execution_count": 8,
     "metadata": {},
     "output_type": "execute_result"
    }
   ],
   "source": [
    "df.mean()"
   ]
  },
  {
   "cell_type": "code",
   "execution_count": 9,
   "metadata": {},
   "outputs": [
    {
     "data": {
      "text/plain": [
       "Age                 12.452524\n",
       "Right_answers        5.231680\n",
       "Audio_prosody        2.122800\n",
       "Combined_channel     1.931903\n",
       "Face_video           1.693199\n",
       "Body_video           1.912147\n",
       "Positive_valence     3.215893\n",
       "Negative_valence     3.132981\n",
       "Dominant             3.125796\n",
       "Submissive           3.033003\n",
       "dtype: float64"
      ]
     },
     "execution_count": 9,
     "metadata": {},
     "output_type": "execute_result"
    }
   ],
   "source": [
    "df.std()"
   ]
  },
  {
   "cell_type": "markdown",
   "metadata": {},
   "source": [
    "### ~ Summary statistics by group"
   ]
  },
  {
   "cell_type": "code",
   "execution_count": 10,
   "metadata": {},
   "outputs": [
    {
     "data": {
      "text/html": [
       "<div>\n",
       "<style scoped>\n",
       "    .dataframe tbody tr th:only-of-type {\n",
       "        vertical-align: middle;\n",
       "    }\n",
       "\n",
       "    .dataframe tbody tr th {\n",
       "        vertical-align: top;\n",
       "    }\n",
       "\n",
       "    .dataframe thead tr th {\n",
       "        text-align: left;\n",
       "    }\n",
       "\n",
       "    .dataframe thead tr:last-of-type th {\n",
       "        text-align: right;\n",
       "    }\n",
       "</style>\n",
       "<table border=\"1\" class=\"dataframe\">\n",
       "  <thead>\n",
       "    <tr>\n",
       "      <th></th>\n",
       "      <th colspan=\"8\" halign=\"left\">Age</th>\n",
       "      <th colspan=\"2\" halign=\"left\">Right_answers</th>\n",
       "      <th>...</th>\n",
       "      <th colspan=\"2\" halign=\"left\">Dominant</th>\n",
       "      <th colspan=\"8\" halign=\"left\">Submissive</th>\n",
       "    </tr>\n",
       "    <tr>\n",
       "      <th></th>\n",
       "      <th>count</th>\n",
       "      <th>mean</th>\n",
       "      <th>std</th>\n",
       "      <th>min</th>\n",
       "      <th>25%</th>\n",
       "      <th>50%</th>\n",
       "      <th>75%</th>\n",
       "      <th>max</th>\n",
       "      <th>count</th>\n",
       "      <th>mean</th>\n",
       "      <th>...</th>\n",
       "      <th>75%</th>\n",
       "      <th>max</th>\n",
       "      <th>count</th>\n",
       "      <th>mean</th>\n",
       "      <th>std</th>\n",
       "      <th>min</th>\n",
       "      <th>25%</th>\n",
       "      <th>50%</th>\n",
       "      <th>75%</th>\n",
       "      <th>max</th>\n",
       "    </tr>\n",
       "    <tr>\n",
       "      <th>Type</th>\n",
       "      <th></th>\n",
       "      <th></th>\n",
       "      <th></th>\n",
       "      <th></th>\n",
       "      <th></th>\n",
       "      <th></th>\n",
       "      <th></th>\n",
       "      <th></th>\n",
       "      <th></th>\n",
       "      <th></th>\n",
       "      <th></th>\n",
       "      <th></th>\n",
       "      <th></th>\n",
       "      <th></th>\n",
       "      <th></th>\n",
       "      <th></th>\n",
       "      <th></th>\n",
       "      <th></th>\n",
       "      <th></th>\n",
       "      <th></th>\n",
       "      <th></th>\n",
       "    </tr>\n",
       "  </thead>\n",
       "  <tbody>\n",
       "    <tr>\n",
       "      <th>BD I</th>\n",
       "      <td>70.0</td>\n",
       "      <td>44.485714</td>\n",
       "      <td>11.493846</td>\n",
       "      <td>21.0</td>\n",
       "      <td>36.25</td>\n",
       "      <td>45.0</td>\n",
       "      <td>53.0</td>\n",
       "      <td>69.0</td>\n",
       "      <td>70.0</td>\n",
       "      <td>45.142857</td>\n",
       "      <td>...</td>\n",
       "      <td>25.0</td>\n",
       "      <td>29.0</td>\n",
       "      <td>70.0</td>\n",
       "      <td>22.400000</td>\n",
       "      <td>2.704800</td>\n",
       "      <td>15.0</td>\n",
       "      <td>21.0</td>\n",
       "      <td>22.5</td>\n",
       "      <td>24.75</td>\n",
       "      <td>28.0</td>\n",
       "    </tr>\n",
       "    <tr>\n",
       "      <th>BD II</th>\n",
       "      <td>49.0</td>\n",
       "      <td>49.877551</td>\n",
       "      <td>11.466678</td>\n",
       "      <td>25.0</td>\n",
       "      <td>41.00</td>\n",
       "      <td>51.0</td>\n",
       "      <td>58.0</td>\n",
       "      <td>73.0</td>\n",
       "      <td>49.0</td>\n",
       "      <td>45.653061</td>\n",
       "      <td>...</td>\n",
       "      <td>24.0</td>\n",
       "      <td>29.0</td>\n",
       "      <td>49.0</td>\n",
       "      <td>23.081633</td>\n",
       "      <td>2.714442</td>\n",
       "      <td>18.0</td>\n",
       "      <td>21.0</td>\n",
       "      <td>23.0</td>\n",
       "      <td>25.00</td>\n",
       "      <td>28.0</td>\n",
       "    </tr>\n",
       "    <tr>\n",
       "      <th>Control</th>\n",
       "      <td>119.0</td>\n",
       "      <td>46.075630</td>\n",
       "      <td>10.802667</td>\n",
       "      <td>22.0</td>\n",
       "      <td>37.50</td>\n",
       "      <td>48.0</td>\n",
       "      <td>54.0</td>\n",
       "      <td>67.0</td>\n",
       "      <td>119.0</td>\n",
       "      <td>50.235294</td>\n",
       "      <td>...</td>\n",
       "      <td>27.0</td>\n",
       "      <td>31.0</td>\n",
       "      <td>119.0</td>\n",
       "      <td>25.361345</td>\n",
       "      <td>2.208347</td>\n",
       "      <td>17.0</td>\n",
       "      <td>24.0</td>\n",
       "      <td>25.0</td>\n",
       "      <td>27.00</td>\n",
       "      <td>30.0</td>\n",
       "    </tr>\n",
       "    <tr>\n",
       "      <th>UD</th>\n",
       "      <td>39.0</td>\n",
       "      <td>62.923077</td>\n",
       "      <td>9.707253</td>\n",
       "      <td>35.0</td>\n",
       "      <td>57.00</td>\n",
       "      <td>66.0</td>\n",
       "      <td>70.0</td>\n",
       "      <td>78.0</td>\n",
       "      <td>39.0</td>\n",
       "      <td>42.717949</td>\n",
       "      <td>...</td>\n",
       "      <td>23.0</td>\n",
       "      <td>29.0</td>\n",
       "      <td>39.0</td>\n",
       "      <td>21.205128</td>\n",
       "      <td>3.237766</td>\n",
       "      <td>13.0</td>\n",
       "      <td>19.0</td>\n",
       "      <td>22.0</td>\n",
       "      <td>23.50</td>\n",
       "      <td>29.0</td>\n",
       "    </tr>\n",
       "  </tbody>\n",
       "</table>\n",
       "<p>4 rows × 80 columns</p>\n",
       "</div>"
      ],
      "text/plain": [
       "           Age                                                       \\\n",
       "         count       mean        std   min    25%   50%   75%   max   \n",
       "Type                                                                  \n",
       "BD I      70.0  44.485714  11.493846  21.0  36.25  45.0  53.0  69.0   \n",
       "BD II     49.0  49.877551  11.466678  25.0  41.00  51.0  58.0  73.0   \n",
       "Control  119.0  46.075630  10.802667  22.0  37.50  48.0  54.0  67.0   \n",
       "UD        39.0  62.923077   9.707253  35.0  57.00  66.0  70.0  78.0   \n",
       "\n",
       "        Right_answers             ... Dominant       Submissive             \\\n",
       "                count       mean  ...      75%   max      count       mean   \n",
       "Type                              ...                                        \n",
       "BD I             70.0  45.142857  ...     25.0  29.0       70.0  22.400000   \n",
       "BD II            49.0  45.653061  ...     24.0  29.0       49.0  23.081633   \n",
       "Control         119.0  50.235294  ...     27.0  31.0      119.0  25.361345   \n",
       "UD               39.0  42.717949  ...     23.0  29.0       39.0  21.205128   \n",
       "\n",
       "                                                  \n",
       "              std   min   25%   50%    75%   max  \n",
       "Type                                              \n",
       "BD I     2.704800  15.0  21.0  22.5  24.75  28.0  \n",
       "BD II    2.714442  18.0  21.0  23.0  25.00  28.0  \n",
       "Control  2.208347  17.0  24.0  25.0  27.00  30.0  \n",
       "UD       3.237766  13.0  19.0  22.0  23.50  29.0  \n",
       "\n",
       "[4 rows x 80 columns]"
      ]
     },
     "execution_count": 10,
     "metadata": {},
     "output_type": "execute_result"
    }
   ],
   "source": [
    "# Option 1:\n",
    "df.groupby('Type').describe()"
   ]
  },
  {
   "cell_type": "code",
   "execution_count": 11,
   "metadata": {},
   "outputs": [
    {
     "name": "stdout",
     "output_type": "stream",
     "text": [
      "\n",
      "~~~ BD I summary statistics ~~~\n",
      "        Age  Right_answers  Audio_prosody  Combined_channel  Face_video  \\\n",
      "count  70.0           70.0           70.0              70.0        70.0   \n",
      "mean   44.5           45.1           10.8              12.0        11.3   \n",
      "std    11.5            4.9            2.1               1.6         1.7   \n",
      "min    21.0           28.0            3.0               8.0         8.0   \n",
      "50%    45.0           45.0           11.0              12.0        11.0   \n",
      "max    69.0           56.0           14.0              16.0        15.0   \n",
      "\n",
      "       Body_video  Positive_valence  Negative_valence  Dominant  Submissive  \n",
      "count        70.0              70.0              70.0      70.0        70.0  \n",
      "mean         11.1              22.6              22.6      22.7        22.4  \n",
      "std           1.8               3.2               2.9       3.1         2.7  \n",
      "min           6.0              14.0              13.0      12.0        15.0  \n",
      "50%          11.0              23.0              23.0      23.0        22.5  \n",
      "max          15.0              29.0              29.0      29.0        28.0  \n",
      "\n",
      "~~~ BD II summary statistics ~~~\n",
      "        Age  Right_answers  Audio_prosody  Combined_channel  Face_video  \\\n",
      "count  49.0           49.0           49.0              49.0        49.0   \n",
      "mean   49.9           45.7           11.3              11.8        11.4   \n",
      "std    11.5            4.7            2.0               1.9         1.6   \n",
      "min    25.0           33.0            6.0               7.0         8.0   \n",
      "50%    51.0           46.0           12.0              12.0        12.0   \n",
      "max    73.0           55.0           15.0              15.0        15.0   \n",
      "\n",
      "       Body_video  Positive_valence  Negative_valence  Dominant  Submissive  \n",
      "count        49.0              49.0              49.0      49.0        49.0  \n",
      "mean         11.2              22.9              22.8      22.6        23.1  \n",
      "std           1.7               2.9               3.1       3.2         2.7  \n",
      "min           6.0              17.0              16.0      13.0        18.0  \n",
      "50%          11.0              23.0              23.0      23.0        23.0  \n",
      "max          14.0              28.0              28.0      29.0        28.0  \n",
      "\n",
      "~~~ Control summary statistics ~~~\n",
      "         Age  Right_answers  Audio_prosody  Combined_channel  Face_video  \\\n",
      "count  119.0          119.0          119.0             119.0       119.0   \n",
      "mean    46.1           50.2           12.2              13.2        12.5   \n",
      "std     10.8            3.7            2.0               1.6         1.5   \n",
      "min     22.0           39.0            6.0               8.0         9.0   \n",
      "50%     48.0           50.0           12.0              14.0        12.0   \n",
      "max     67.0           58.0           16.0              16.0        15.0   \n",
      "\n",
      "       Body_video  Positive_valence  Negative_valence  Dominant  Submissive  \n",
      "count       119.0             119.0             119.0     119.0       119.0  \n",
      "mean         12.3              25.2              25.1      24.9        25.4  \n",
      "std           1.6               2.5               2.5       2.5         2.2  \n",
      "min           9.0              19.0              19.0      16.0        17.0  \n",
      "50%          12.0              25.0              25.0      25.0        25.0  \n",
      "max          16.0              30.0              30.0      31.0        30.0  \n",
      "\n",
      "~~~ UD summary statistics ~~~\n",
      "        Age  Right_answers  Audio_prosody  Combined_channel  Face_video  \\\n",
      "count  39.0           39.0           39.0              39.0        39.0   \n",
      "mean   62.9           42.7           10.4              11.0        11.0   \n",
      "std     9.7            5.0            2.0               2.2         1.6   \n",
      "min    35.0           32.0            7.0               6.0         8.0   \n",
      "50%    66.0           43.0           11.0              11.0        11.0   \n",
      "max    78.0           53.0           14.0              15.0        14.0   \n",
      "\n",
      "       Body_video  Positive_valence  Negative_valence  Dominant  Submissive  \n",
      "count        39.0              39.0              39.0      39.0        39.0  \n",
      "mean         10.4              21.3              21.4      21.5        21.2  \n",
      "std           2.3               3.3               3.2       2.9         3.2  \n",
      "min           5.0              13.0              10.0      16.0        13.0  \n",
      "50%          10.0              22.0              22.0      21.0        22.0  \n",
      "max          15.0              28.0              26.0      29.0        29.0  \n"
     ]
    }
   ],
   "source": [
    "# Option 2: for loop\n",
    "for iType in pd.unique(df.Type):\n",
    "    print('\\n~~~ ' + iType + ' summary statistics ~~~') # '\\n' means 'enter' (= go to a new line) and '~~~' will just print '~~~' to make the output easier to read\n",
    "    print(df[df.Type == iType].describe(percentiles = []).round(1)) # percentiles = [] removes the 25% and the 75% percentiles from the .describe() output to increase readability"
   ]
  },
  {
   "cell_type": "markdown",
   "metadata": {},
   "source": [
    "Let's go over this piece of code.\n",
    "\n",
    "It is here for you to practice for loops.\n",
    "\n",
    "You can try looping through unique levels of variable Type.\n",
    "\n",
    "*NB*: if you work with categorical variables (e.g., groups of participants, experimental conditions, types of proteins), you'll likely have to use pd.unique or an equivalent method, so I recommend going over this piece of code carefully.\n",
    "\n",
    "df.Type is a column, it has the length of your dataset:"
   ]
  },
  {
   "cell_type": "code",
   "execution_count": 12,
   "metadata": {},
   "outputs": [
    {
     "data": {
      "text/plain": [
       "0     BD I\n",
       "1     BD I\n",
       "2     BD I\n",
       "3     BD I\n",
       "4    BD II\n",
       "Name: Type, dtype: object"
      ]
     },
     "execution_count": 12,
     "metadata": {},
     "output_type": "execute_result"
    }
   ],
   "source": [
    "df.Type.head()"
   ]
  },
  {
   "cell_type": "code",
   "execution_count": 13,
   "metadata": {},
   "outputs": [
    {
     "data": {
      "text/plain": [
       "277"
      ]
     },
     "execution_count": 13,
     "metadata": {},
     "output_type": "execute_result"
    }
   ],
   "source": [
    "len(df.Type)"
   ]
  },
  {
   "cell_type": "markdown",
   "metadata": {},
   "source": [
    "If you want to do certain operations on separate levels of the variable 'Type', you can loop through the levels. in our case, your for loop will have 4 iterations: once for every level of type ('BD I', 'BD II', 'Control', 'UD').\n",
    "\n",
    "The syntax of the for loop requires for you to have a list of values that the iterator takes on during every iteration of the loop. In our case, this list is ['BD I', 'BD II', 'UD', 'Control']. We don't want to hard-code it but we want to make python output it for us.\n",
    "\n",
    "pd.unique will give you the list of unique (non-repeating) values in the Type column:"
   ]
  },
  {
   "cell_type": "code",
   "execution_count": 14,
   "metadata": {},
   "outputs": [
    {
     "data": {
      "text/plain": [
       "array(['BD I', 'BD II', 'Control', 'UD'], dtype=object)"
      ]
     },
     "execution_count": 14,
     "metadata": {},
     "output_type": "execute_result"
    }
   ],
   "source": [
    "pd.unique(df.Type)"
   ]
  },
  {
   "cell_type": "code",
   "execution_count": 15,
   "metadata": {},
   "outputs": [
    {
     "data": {
      "text/plain": [
       "4"
      ]
     },
     "execution_count": 15,
     "metadata": {},
     "output_type": "execute_result"
    }
   ],
   "source": [
    "len(pd.unique(df.Type))"
   ]
  },
  {
   "cell_type": "markdown",
   "metadata": {},
   "source": [
    "How can we use our iterator inside the loop if during every iteration of the loop it takes on one string value from the following list ['BD I', 'BD II', 'Control', 'UD']?\n",
    "\n",
    "We can use it to subset our dataframe:"
   ]
  },
  {
   "cell_type": "code",
   "execution_count": 16,
   "metadata": {},
   "outputs": [],
   "source": [
    "iType = 'BD I' # this is done automatically on the first iteration of the loop\n",
    "df_with_only_BD_I = df[df.Type == iType]"
   ]
  },
  {
   "cell_type": "markdown",
   "metadata": {},
   "source": [
    "Now you have a new dataframe with all columns of the original dataframe but only for BD I.\n",
    "You can use .describe or any other methods on it: print descriptive statistics, plot values specific to BD I etc.\n",
    "You can also do the same for the other groups of participants."
   ]
  },
  {
   "cell_type": "code",
   "execution_count": 17,
   "metadata": {},
   "outputs": [
    {
     "name": "stdout",
     "output_type": "stream",
     "text": [
      "        Age  Right_answers  Audio_prosody  Combined_channel  Face_video  \\\n",
      "count  70.0           70.0           70.0              70.0        70.0   \n",
      "mean   44.5           45.1           10.8              12.0        11.3   \n",
      "std    11.5            4.9            2.1               1.6         1.7   \n",
      "min    21.0           28.0            3.0               8.0         8.0   \n",
      "25%    36.2           42.2            9.2              11.0        10.0   \n",
      "50%    45.0           45.0           11.0              12.0        11.0   \n",
      "75%    53.0           48.0           12.0              13.0        12.0   \n",
      "max    69.0           56.0           14.0              16.0        15.0   \n",
      "\n",
      "       Body_video  Positive_valence  Negative_valence  Dominant  Submissive  \n",
      "count        70.0              70.0              70.0      70.0        70.0  \n",
      "mean         11.1              22.6              22.6      22.7        22.4  \n",
      "std           1.8               3.2               2.9       3.1         2.7  \n",
      "min           6.0              14.0              13.0      12.0        15.0  \n",
      "25%          10.0              21.0              21.0      21.2        21.0  \n",
      "50%          11.0              23.0              23.0      23.0        22.5  \n",
      "75%          12.0              25.0              24.8      25.0        24.8  \n",
      "max          15.0              29.0              29.0      29.0        28.0  \n"
     ]
    }
   ],
   "source": [
    "print(df_with_only_BD_I.describe().round(1))"
   ]
  },
  {
   "cell_type": "code",
   "execution_count": 18,
   "metadata": {},
   "outputs": [],
   "source": [
    "#second iteration of the loop will do this:\n",
    "iType = 'BD II' \n",
    "df_with_only_BD_II = df[df.Type == iType]\n",
    "#print(df_with_only_BD_II.describe().round(1))"
   ]
  },
  {
   "cell_type": "code",
   "execution_count": 19,
   "metadata": {},
   "outputs": [],
   "source": [
    "#third iteration of the loop will do this:\n",
    "iType = 'Control' \n",
    "df_with_only_Control = df[df.Type == iType]\n",
    "#print(df_with_only_Control.describe().round(1))"
   ]
  },
  {
   "cell_type": "code",
   "execution_count": 20,
   "metadata": {},
   "outputs": [],
   "source": [
    "#fourth iteration of the loop will do this:\n",
    "iType = 'UD' \n",
    "df_with_only_UD = df[df.Type == iType]\n",
    "#print(df_with_only_UD.describe().round(1))"
   ]
  },
  {
   "cell_type": "markdown",
   "metadata": {},
   "source": [
    "Instead of writing this code 4 times, once for every group, we can use a for loop:"
   ]
  },
  {
   "cell_type": "code",
   "execution_count": 21,
   "metadata": {},
   "outputs": [
    {
     "name": "stdout",
     "output_type": "stream",
     "text": [
      "BD I summary statistics\n",
      "        Age  Right_answers  Audio_prosody  Combined_channel  Face_video  \\\n",
      "count  70.0           70.0           70.0              70.0        70.0   \n",
      "mean   44.5           45.1           10.8              12.0        11.3   \n",
      "std    11.5            4.9            2.1               1.6         1.7   \n",
      "min    21.0           28.0            3.0               8.0         8.0   \n",
      "25%    36.2           42.2            9.2              11.0        10.0   \n",
      "50%    45.0           45.0           11.0              12.0        11.0   \n",
      "75%    53.0           48.0           12.0              13.0        12.0   \n",
      "max    69.0           56.0           14.0              16.0        15.0   \n",
      "\n",
      "       Body_video  Positive_valence  Negative_valence  Dominant  Submissive  \n",
      "count        70.0              70.0              70.0      70.0        70.0  \n",
      "mean         11.1              22.6              22.6      22.7        22.4  \n",
      "std           1.8               3.2               2.9       3.1         2.7  \n",
      "min           6.0              14.0              13.0      12.0        15.0  \n",
      "25%          10.0              21.0              21.0      21.2        21.0  \n",
      "50%          11.0              23.0              23.0      23.0        22.5  \n",
      "75%          12.0              25.0              24.8      25.0        24.8  \n",
      "max          15.0              29.0              29.0      29.0        28.0  \n",
      "BD II summary statistics\n",
      "        Age  Right_answers  Audio_prosody  Combined_channel  Face_video  \\\n",
      "count  49.0           49.0           49.0              49.0        49.0   \n",
      "mean   49.9           45.7           11.3              11.8        11.4   \n",
      "std    11.5            4.7            2.0               1.9         1.6   \n",
      "min    25.0           33.0            6.0               7.0         8.0   \n",
      "25%    41.0           43.0           10.0              11.0        10.0   \n",
      "50%    51.0           46.0           12.0              12.0        12.0   \n",
      "75%    58.0           49.0           12.0              13.0        12.0   \n",
      "max    73.0           55.0           15.0              15.0        15.0   \n",
      "\n",
      "       Body_video  Positive_valence  Negative_valence  Dominant  Submissive  \n",
      "count        49.0              49.0              49.0      49.0        49.0  \n",
      "mean         11.2              22.9              22.8      22.6        23.1  \n",
      "std           1.7               2.9               3.1       3.2         2.7  \n",
      "min           6.0              17.0              16.0      13.0        18.0  \n",
      "25%          10.0              21.0              21.0      21.0        21.0  \n",
      "50%          11.0              23.0              23.0      23.0        23.0  \n",
      "75%          13.0              25.0              25.0      24.0        25.0  \n",
      "max          14.0              28.0              28.0      29.0        28.0  \n",
      "Control summary statistics\n",
      "         Age  Right_answers  Audio_prosody  Combined_channel  Face_video  \\\n",
      "count  119.0          119.0          119.0             119.0       119.0   \n",
      "mean    46.1           50.2           12.2              13.2        12.5   \n",
      "std     10.8            3.7            2.0               1.6         1.5   \n",
      "min     22.0           39.0            6.0               8.0         9.0   \n",
      "25%     37.5           48.0           11.0              12.0        12.0   \n",
      "50%     48.0           50.0           12.0              14.0        12.0   \n",
      "75%     54.0           53.0           14.0              14.0        14.0   \n",
      "max     67.0           58.0           16.0              16.0        15.0   \n",
      "\n",
      "       Body_video  Positive_valence  Negative_valence  Dominant  Submissive  \n",
      "count       119.0             119.0             119.0     119.0       119.0  \n",
      "mean         12.3              25.2              25.1      24.9        25.4  \n",
      "std           1.6               2.5               2.5       2.5         2.2  \n",
      "min           9.0              19.0              19.0      16.0        17.0  \n",
      "25%          11.0              23.0              23.0      23.5        24.0  \n",
      "50%          12.0              25.0              25.0      25.0        25.0  \n",
      "75%          13.0              27.0              27.0      27.0        27.0  \n",
      "max          16.0              30.0              30.0      31.0        30.0  \n",
      "UD summary statistics\n",
      "        Age  Right_answers  Audio_prosody  Combined_channel  Face_video  \\\n",
      "count  39.0           39.0           39.0              39.0        39.0   \n",
      "mean   62.9           42.7           10.4              11.0        11.0   \n",
      "std     9.7            5.0            2.0               2.2         1.6   \n",
      "min    35.0           32.0            7.0               6.0         8.0   \n",
      "25%    57.0           39.0            9.0              10.0        10.0   \n",
      "50%    66.0           43.0           11.0              11.0        11.0   \n",
      "75%    70.0           47.0           12.0              12.0        12.0   \n",
      "max    78.0           53.0           14.0              15.0        14.0   \n",
      "\n",
      "       Body_video  Positive_valence  Negative_valence  Dominant  Submissive  \n",
      "count        39.0              39.0              39.0      39.0        39.0  \n",
      "mean         10.4              21.3              21.4      21.5        21.2  \n",
      "std           2.3               3.3               3.2       2.9         3.2  \n",
      "min           5.0              13.0              10.0      16.0        13.0  \n",
      "25%           9.0              20.0              20.0      20.0        19.0  \n",
      "50%          10.0              22.0              22.0      21.0        22.0  \n",
      "75%          12.0              23.0              23.5      23.0        23.5  \n",
      "max          15.0              28.0              26.0      29.0        29.0  \n"
     ]
    }
   ],
   "source": [
    "for iType in pd.unique(df.Type):\n",
    "    print(iType + ' summary statistics') # prints \"GROUP_LABEL summary statistics\" for us to know which group's statistics are printed\n",
    "    print(df[df.Type == iType].describe().round(1)) # prints descriptive statistics for one group rounded to 1 decimal point"
   ]
  },
  {
   "cell_type": "markdown",
   "metadata": {},
   "source": [
    "You can edit this loop in any way you like, so that the output fits your needs and likes. Here's my version:"
   ]
  },
  {
   "cell_type": "code",
   "execution_count": 22,
   "metadata": {},
   "outputs": [
    {
     "name": "stdout",
     "output_type": "stream",
     "text": [
      "\n",
      "~~~ BD I summary statistics ~~~\n",
      "        Age  Right_answers  Audio_prosody  Combined_channel  Face_video  \\\n",
      "count  70.0           70.0           70.0              70.0        70.0   \n",
      "mean   44.5           45.1           10.8              12.0        11.3   \n",
      "std    11.5            4.9            2.1               1.6         1.7   \n",
      "min    21.0           28.0            3.0               8.0         8.0   \n",
      "50%    45.0           45.0           11.0              12.0        11.0   \n",
      "max    69.0           56.0           14.0              16.0        15.0   \n",
      "\n",
      "       Body_video  Positive_valence  Negative_valence  Dominant  Submissive  \n",
      "count        70.0              70.0              70.0      70.0        70.0  \n",
      "mean         11.1              22.6              22.6      22.7        22.4  \n",
      "std           1.8               3.2               2.9       3.1         2.7  \n",
      "min           6.0              14.0              13.0      12.0        15.0  \n",
      "50%          11.0              23.0              23.0      23.0        22.5  \n",
      "max          15.0              29.0              29.0      29.0        28.0  \n",
      "\n",
      "~~~ BD II summary statistics ~~~\n",
      "        Age  Right_answers  Audio_prosody  Combined_channel  Face_video  \\\n",
      "count  49.0           49.0           49.0              49.0        49.0   \n",
      "mean   49.9           45.7           11.3              11.8        11.4   \n",
      "std    11.5            4.7            2.0               1.9         1.6   \n",
      "min    25.0           33.0            6.0               7.0         8.0   \n",
      "50%    51.0           46.0           12.0              12.0        12.0   \n",
      "max    73.0           55.0           15.0              15.0        15.0   \n",
      "\n",
      "       Body_video  Positive_valence  Negative_valence  Dominant  Submissive  \n",
      "count        49.0              49.0              49.0      49.0        49.0  \n",
      "mean         11.2              22.9              22.8      22.6        23.1  \n",
      "std           1.7               2.9               3.1       3.2         2.7  \n",
      "min           6.0              17.0              16.0      13.0        18.0  \n",
      "50%          11.0              23.0              23.0      23.0        23.0  \n",
      "max          14.0              28.0              28.0      29.0        28.0  \n",
      "\n",
      "~~~ Control summary statistics ~~~\n",
      "         Age  Right_answers  Audio_prosody  Combined_channel  Face_video  \\\n",
      "count  119.0          119.0          119.0             119.0       119.0   \n",
      "mean    46.1           50.2           12.2              13.2        12.5   \n",
      "std     10.8            3.7            2.0               1.6         1.5   \n",
      "min     22.0           39.0            6.0               8.0         9.0   \n",
      "50%     48.0           50.0           12.0              14.0        12.0   \n",
      "max     67.0           58.0           16.0              16.0        15.0   \n",
      "\n",
      "       Body_video  Positive_valence  Negative_valence  Dominant  Submissive  \n",
      "count       119.0             119.0             119.0     119.0       119.0  \n",
      "mean         12.3              25.2              25.1      24.9        25.4  \n",
      "std           1.6               2.5               2.5       2.5         2.2  \n",
      "min           9.0              19.0              19.0      16.0        17.0  \n",
      "50%          12.0              25.0              25.0      25.0        25.0  \n",
      "max          16.0              30.0              30.0      31.0        30.0  \n",
      "\n",
      "~~~ UD summary statistics ~~~\n",
      "        Age  Right_answers  Audio_prosody  Combined_channel  Face_video  \\\n",
      "count  39.0           39.0           39.0              39.0        39.0   \n",
      "mean   62.9           42.7           10.4              11.0        11.0   \n",
      "std     9.7            5.0            2.0               2.2         1.6   \n",
      "min    35.0           32.0            7.0               6.0         8.0   \n",
      "50%    66.0           43.0           11.0              11.0        11.0   \n",
      "max    78.0           53.0           14.0              15.0        14.0   \n",
      "\n",
      "       Body_video  Positive_valence  Negative_valence  Dominant  Submissive  \n",
      "count        39.0              39.0              39.0      39.0        39.0  \n",
      "mean         10.4              21.3              21.4      21.5        21.2  \n",
      "std           2.3               3.3               3.2       2.9         3.2  \n",
      "min           5.0              13.0              10.0      16.0        13.0  \n",
      "50%          10.0              22.0              22.0      21.0        22.0  \n",
      "max          15.0              28.0              26.0      29.0        29.0  \n"
     ]
    }
   ],
   "source": [
    "for iType in pd.unique(df.Type):\n",
    "    print('\\n~~~ ' + iType + ' summary statistics ~~~') # '\\n' means 'enter' (= go to a new line) and '~~~' will just print '~~~' to make the output easier to read\n",
    "    print(df[df.Type == iType].describe(percentiles = []).round(1)) # percentiles = [] removes the 25% and the 75% percentiles from the .describe() output to increase readability"
   ]
  },
  {
   "cell_type": "code",
   "execution_count": 23,
   "metadata": {},
   "outputs": [
    {
     "data": {
      "text/html": [
       "<div>\n",
       "<style scoped>\n",
       "    .dataframe tbody tr th:only-of-type {\n",
       "        vertical-align: middle;\n",
       "    }\n",
       "\n",
       "    .dataframe tbody tr th {\n",
       "        vertical-align: top;\n",
       "    }\n",
       "\n",
       "    .dataframe thead th {\n",
       "        text-align: right;\n",
       "    }\n",
       "</style>\n",
       "<table border=\"1\" class=\"dataframe\">\n",
       "  <thead>\n",
       "    <tr style=\"text-align: right;\">\n",
       "      <th></th>\n",
       "      <th>count</th>\n",
       "      <th>mean</th>\n",
       "      <th>std</th>\n",
       "      <th>min</th>\n",
       "      <th>25%</th>\n",
       "      <th>50%</th>\n",
       "      <th>75%</th>\n",
       "      <th>max</th>\n",
       "    </tr>\n",
       "    <tr>\n",
       "      <th>Type</th>\n",
       "      <th></th>\n",
       "      <th></th>\n",
       "      <th></th>\n",
       "      <th></th>\n",
       "      <th></th>\n",
       "      <th></th>\n",
       "      <th></th>\n",
       "      <th></th>\n",
       "    </tr>\n",
       "  </thead>\n",
       "  <tbody>\n",
       "    <tr>\n",
       "      <th>BD I</th>\n",
       "      <td>70.0</td>\n",
       "      <td>44.485714</td>\n",
       "      <td>11.493846</td>\n",
       "      <td>21.0</td>\n",
       "      <td>36.25</td>\n",
       "      <td>45.0</td>\n",
       "      <td>53.0</td>\n",
       "      <td>69.0</td>\n",
       "    </tr>\n",
       "    <tr>\n",
       "      <th>BD II</th>\n",
       "      <td>49.0</td>\n",
       "      <td>49.877551</td>\n",
       "      <td>11.466678</td>\n",
       "      <td>25.0</td>\n",
       "      <td>41.00</td>\n",
       "      <td>51.0</td>\n",
       "      <td>58.0</td>\n",
       "      <td>73.0</td>\n",
       "    </tr>\n",
       "    <tr>\n",
       "      <th>Control</th>\n",
       "      <td>119.0</td>\n",
       "      <td>46.075630</td>\n",
       "      <td>10.802667</td>\n",
       "      <td>22.0</td>\n",
       "      <td>37.50</td>\n",
       "      <td>48.0</td>\n",
       "      <td>54.0</td>\n",
       "      <td>67.0</td>\n",
       "    </tr>\n",
       "    <tr>\n",
       "      <th>UD</th>\n",
       "      <td>39.0</td>\n",
       "      <td>62.923077</td>\n",
       "      <td>9.707253</td>\n",
       "      <td>35.0</td>\n",
       "      <td>57.00</td>\n",
       "      <td>66.0</td>\n",
       "      <td>70.0</td>\n",
       "      <td>78.0</td>\n",
       "    </tr>\n",
       "  </tbody>\n",
       "</table>\n",
       "</div>"
      ],
      "text/plain": [
       "         count       mean        std   min    25%   50%   75%   max\n",
       "Type                                                               \n",
       "BD I      70.0  44.485714  11.493846  21.0  36.25  45.0  53.0  69.0\n",
       "BD II     49.0  49.877551  11.466678  25.0  41.00  51.0  58.0  73.0\n",
       "Control  119.0  46.075630  10.802667  22.0  37.50  48.0  54.0  67.0\n",
       "UD        39.0  62.923077   9.707253  35.0  57.00  66.0  70.0  78.0"
      ]
     },
     "execution_count": 23,
     "metadata": {},
     "output_type": "execute_result"
    }
   ],
   "source": [
    "# Option 3: if you want to print descriptives only for specific columns in your dataframe\n",
    "df.groupby('Type').Age.describe() # calculates only the age descriptives per group"
   ]
  },
  {
   "cell_type": "code",
   "execution_count": 24,
   "metadata": {},
   "outputs": [
    {
     "data": {
      "text/html": [
       "<div>\n",
       "<style scoped>\n",
       "    .dataframe tbody tr th:only-of-type {\n",
       "        vertical-align: middle;\n",
       "    }\n",
       "\n",
       "    .dataframe tbody tr th {\n",
       "        vertical-align: top;\n",
       "    }\n",
       "\n",
       "    .dataframe thead th {\n",
       "        text-align: right;\n",
       "    }\n",
       "</style>\n",
       "<table border=\"1\" class=\"dataframe\">\n",
       "  <thead>\n",
       "    <tr style=\"text-align: right;\">\n",
       "      <th></th>\n",
       "      <th>Age</th>\n",
       "      <th>Right_answers</th>\n",
       "      <th>Audio_prosody</th>\n",
       "      <th>Combined_channel</th>\n",
       "      <th>Face_video</th>\n",
       "      <th>Body_video</th>\n",
       "      <th>Positive_valence</th>\n",
       "      <th>Negative_valence</th>\n",
       "      <th>Dominant</th>\n",
       "      <th>Submissive</th>\n",
       "    </tr>\n",
       "    <tr>\n",
       "      <th>Type</th>\n",
       "      <th></th>\n",
       "      <th></th>\n",
       "      <th></th>\n",
       "      <th></th>\n",
       "      <th></th>\n",
       "      <th></th>\n",
       "      <th></th>\n",
       "      <th></th>\n",
       "      <th></th>\n",
       "      <th></th>\n",
       "    </tr>\n",
       "  </thead>\n",
       "  <tbody>\n",
       "    <tr>\n",
       "      <th>BD I</th>\n",
       "      <td>44.485714</td>\n",
       "      <td>45.142857</td>\n",
       "      <td>10.757143</td>\n",
       "      <td>12.042857</td>\n",
       "      <td>11.257143</td>\n",
       "      <td>11.085714</td>\n",
       "      <td>22.585714</td>\n",
       "      <td>22.557143</td>\n",
       "      <td>22.742857</td>\n",
       "      <td>22.400000</td>\n",
       "    </tr>\n",
       "    <tr>\n",
       "      <th>BD II</th>\n",
       "      <td>49.877551</td>\n",
       "      <td>45.653061</td>\n",
       "      <td>11.285714</td>\n",
       "      <td>11.795918</td>\n",
       "      <td>11.408163</td>\n",
       "      <td>11.163265</td>\n",
       "      <td>22.857143</td>\n",
       "      <td>22.795918</td>\n",
       "      <td>22.571429</td>\n",
       "      <td>23.081633</td>\n",
       "    </tr>\n",
       "    <tr>\n",
       "      <th>Control</th>\n",
       "      <td>46.075630</td>\n",
       "      <td>50.235294</td>\n",
       "      <td>12.226891</td>\n",
       "      <td>13.176471</td>\n",
       "      <td>12.529412</td>\n",
       "      <td>12.302521</td>\n",
       "      <td>25.151261</td>\n",
       "      <td>25.084034</td>\n",
       "      <td>24.873950</td>\n",
       "      <td>25.361345</td>\n",
       "    </tr>\n",
       "    <tr>\n",
       "      <th>UD</th>\n",
       "      <td>62.923077</td>\n",
       "      <td>42.717949</td>\n",
       "      <td>10.358974</td>\n",
       "      <td>11.000000</td>\n",
       "      <td>11.000000</td>\n",
       "      <td>10.358974</td>\n",
       "      <td>21.307692</td>\n",
       "      <td>21.410256</td>\n",
       "      <td>21.512821</td>\n",
       "      <td>21.205128</td>\n",
       "    </tr>\n",
       "  </tbody>\n",
       "</table>\n",
       "</div>"
      ],
      "text/plain": [
       "               Age  Right_answers  Audio_prosody  Combined_channel  \\\n",
       "Type                                                                 \n",
       "BD I     44.485714      45.142857      10.757143         12.042857   \n",
       "BD II    49.877551      45.653061      11.285714         11.795918   \n",
       "Control  46.075630      50.235294      12.226891         13.176471   \n",
       "UD       62.923077      42.717949      10.358974         11.000000   \n",
       "\n",
       "         Face_video  Body_video  Positive_valence  Negative_valence  \\\n",
       "Type                                                                  \n",
       "BD I      11.257143   11.085714         22.585714         22.557143   \n",
       "BD II     11.408163   11.163265         22.857143         22.795918   \n",
       "Control   12.529412   12.302521         25.151261         25.084034   \n",
       "UD        11.000000   10.358974         21.307692         21.410256   \n",
       "\n",
       "          Dominant  Submissive  \n",
       "Type                            \n",
       "BD I     22.742857   22.400000  \n",
       "BD II    22.571429   23.081633  \n",
       "Control  24.873950   25.361345  \n",
       "UD       21.512821   21.205128  "
      ]
     },
     "execution_count": 24,
     "metadata": {},
     "output_type": "execute_result"
    }
   ],
   "source": [
    "# Option 4: print means (or any other statistic separately)\n",
    "df.groupby('Type').mean()"
   ]
  },
  {
   "cell_type": "code",
   "execution_count": 25,
   "metadata": {},
   "outputs": [
    {
     "data": {
      "text/html": [
       "<div>\n",
       "<style scoped>\n",
       "    .dataframe tbody tr th:only-of-type {\n",
       "        vertical-align: middle;\n",
       "    }\n",
       "\n",
       "    .dataframe tbody tr th {\n",
       "        vertical-align: top;\n",
       "    }\n",
       "\n",
       "    .dataframe thead tr th {\n",
       "        text-align: left;\n",
       "    }\n",
       "\n",
       "    .dataframe thead tr:last-of-type th {\n",
       "        text-align: right;\n",
       "    }\n",
       "</style>\n",
       "<table border=\"1\" class=\"dataframe\">\n",
       "  <thead>\n",
       "    <tr>\n",
       "      <th></th>\n",
       "      <th colspan=\"2\" halign=\"left\">Age</th>\n",
       "      <th colspan=\"2\" halign=\"left\">Right_answers</th>\n",
       "      <th colspan=\"2\" halign=\"left\">Audio_prosody</th>\n",
       "      <th colspan=\"2\" halign=\"left\">Combined_channel</th>\n",
       "      <th colspan=\"2\" halign=\"left\">Face_video</th>\n",
       "      <th colspan=\"2\" halign=\"left\">Body_video</th>\n",
       "      <th colspan=\"2\" halign=\"left\">Positive_valence</th>\n",
       "      <th colspan=\"2\" halign=\"left\">Negative_valence</th>\n",
       "      <th colspan=\"2\" halign=\"left\">Dominant</th>\n",
       "      <th colspan=\"2\" halign=\"left\">Submissive</th>\n",
       "    </tr>\n",
       "    <tr>\n",
       "      <th></th>\n",
       "      <th>mean</th>\n",
       "      <th>std</th>\n",
       "      <th>mean</th>\n",
       "      <th>std</th>\n",
       "      <th>mean</th>\n",
       "      <th>std</th>\n",
       "      <th>mean</th>\n",
       "      <th>std</th>\n",
       "      <th>mean</th>\n",
       "      <th>std</th>\n",
       "      <th>mean</th>\n",
       "      <th>std</th>\n",
       "      <th>mean</th>\n",
       "      <th>std</th>\n",
       "      <th>mean</th>\n",
       "      <th>std</th>\n",
       "      <th>mean</th>\n",
       "      <th>std</th>\n",
       "      <th>mean</th>\n",
       "      <th>std</th>\n",
       "    </tr>\n",
       "    <tr>\n",
       "      <th>Type</th>\n",
       "      <th></th>\n",
       "      <th></th>\n",
       "      <th></th>\n",
       "      <th></th>\n",
       "      <th></th>\n",
       "      <th></th>\n",
       "      <th></th>\n",
       "      <th></th>\n",
       "      <th></th>\n",
       "      <th></th>\n",
       "      <th></th>\n",
       "      <th></th>\n",
       "      <th></th>\n",
       "      <th></th>\n",
       "      <th></th>\n",
       "      <th></th>\n",
       "      <th></th>\n",
       "      <th></th>\n",
       "      <th></th>\n",
       "      <th></th>\n",
       "    </tr>\n",
       "  </thead>\n",
       "  <tbody>\n",
       "    <tr>\n",
       "      <th>BD I</th>\n",
       "      <td>44.5</td>\n",
       "      <td>11.5</td>\n",
       "      <td>45.1</td>\n",
       "      <td>4.9</td>\n",
       "      <td>10.8</td>\n",
       "      <td>2.1</td>\n",
       "      <td>12.0</td>\n",
       "      <td>1.6</td>\n",
       "      <td>11.3</td>\n",
       "      <td>1.7</td>\n",
       "      <td>11.1</td>\n",
       "      <td>1.8</td>\n",
       "      <td>22.6</td>\n",
       "      <td>3.2</td>\n",
       "      <td>22.6</td>\n",
       "      <td>2.9</td>\n",
       "      <td>22.7</td>\n",
       "      <td>3.1</td>\n",
       "      <td>22.4</td>\n",
       "      <td>2.7</td>\n",
       "    </tr>\n",
       "    <tr>\n",
       "      <th>BD II</th>\n",
       "      <td>49.9</td>\n",
       "      <td>11.5</td>\n",
       "      <td>45.7</td>\n",
       "      <td>4.7</td>\n",
       "      <td>11.3</td>\n",
       "      <td>2.0</td>\n",
       "      <td>11.8</td>\n",
       "      <td>1.9</td>\n",
       "      <td>11.4</td>\n",
       "      <td>1.6</td>\n",
       "      <td>11.2</td>\n",
       "      <td>1.7</td>\n",
       "      <td>22.9</td>\n",
       "      <td>2.9</td>\n",
       "      <td>22.8</td>\n",
       "      <td>3.1</td>\n",
       "      <td>22.6</td>\n",
       "      <td>3.2</td>\n",
       "      <td>23.1</td>\n",
       "      <td>2.7</td>\n",
       "    </tr>\n",
       "    <tr>\n",
       "      <th>Control</th>\n",
       "      <td>46.1</td>\n",
       "      <td>10.8</td>\n",
       "      <td>50.2</td>\n",
       "      <td>3.7</td>\n",
       "      <td>12.2</td>\n",
       "      <td>2.0</td>\n",
       "      <td>13.2</td>\n",
       "      <td>1.6</td>\n",
       "      <td>12.5</td>\n",
       "      <td>1.5</td>\n",
       "      <td>12.3</td>\n",
       "      <td>1.6</td>\n",
       "      <td>25.2</td>\n",
       "      <td>2.5</td>\n",
       "      <td>25.1</td>\n",
       "      <td>2.5</td>\n",
       "      <td>24.9</td>\n",
       "      <td>2.5</td>\n",
       "      <td>25.4</td>\n",
       "      <td>2.2</td>\n",
       "    </tr>\n",
       "    <tr>\n",
       "      <th>UD</th>\n",
       "      <td>62.9</td>\n",
       "      <td>9.7</td>\n",
       "      <td>42.7</td>\n",
       "      <td>5.0</td>\n",
       "      <td>10.4</td>\n",
       "      <td>2.0</td>\n",
       "      <td>11.0</td>\n",
       "      <td>2.2</td>\n",
       "      <td>11.0</td>\n",
       "      <td>1.6</td>\n",
       "      <td>10.4</td>\n",
       "      <td>2.3</td>\n",
       "      <td>21.3</td>\n",
       "      <td>3.3</td>\n",
       "      <td>21.4</td>\n",
       "      <td>3.2</td>\n",
       "      <td>21.5</td>\n",
       "      <td>2.9</td>\n",
       "      <td>21.2</td>\n",
       "      <td>3.2</td>\n",
       "    </tr>\n",
       "  </tbody>\n",
       "</table>\n",
       "</div>"
      ],
      "text/plain": [
       "          Age       Right_answers      Audio_prosody      Combined_channel  \\\n",
       "         mean   std          mean  std          mean  std             mean   \n",
       "Type                                                                         \n",
       "BD I     44.5  11.5          45.1  4.9          10.8  2.1             12.0   \n",
       "BD II    49.9  11.5          45.7  4.7          11.3  2.0             11.8   \n",
       "Control  46.1  10.8          50.2  3.7          12.2  2.0             13.2   \n",
       "UD       62.9   9.7          42.7  5.0          10.4  2.0             11.0   \n",
       "\n",
       "             Face_video      Body_video      Positive_valence       \\\n",
       "         std       mean  std       mean  std             mean  std   \n",
       "Type                                                                 \n",
       "BD I     1.6       11.3  1.7       11.1  1.8             22.6  3.2   \n",
       "BD II    1.9       11.4  1.6       11.2  1.7             22.9  2.9   \n",
       "Control  1.6       12.5  1.5       12.3  1.6             25.2  2.5   \n",
       "UD       2.2       11.0  1.6       10.4  2.3             21.3  3.3   \n",
       "\n",
       "        Negative_valence      Dominant      Submissive       \n",
       "                    mean  std     mean  std       mean  std  \n",
       "Type                                                         \n",
       "BD I                22.6  2.9     22.7  3.1       22.4  2.7  \n",
       "BD II               22.8  3.1     22.6  3.2       23.1  2.7  \n",
       "Control             25.1  2.5     24.9  2.5       25.4  2.2  \n",
       "UD                  21.4  3.2     21.5  2.9       21.2  3.2  "
      ]
     },
     "execution_count": 25,
     "metadata": {},
     "output_type": "execute_result"
    }
   ],
   "source": [
    "# Option 5: print multiple statistics of choice\n",
    "df.groupby('Type').agg([np.mean, np.std]).round(1)"
   ]
  },
  {
   "cell_type": "markdown",
   "metadata": {},
   "source": [
    "### ~ Save output as .csv"
   ]
  },
  {
   "cell_type": "code",
   "execution_count": 26,
   "metadata": {},
   "outputs": [],
   "source": [
    "# For example:\n",
    "summary = df.describe()\n",
    "summary.to_csv('summary.csv')"
   ]
  },
  {
   "cell_type": "markdown",
   "metadata": {},
   "source": [
    "## Task 2: Visualize participants' age:\n",
    "- What's the best way to plot the age distribution across all participants?\n",
    "- What's the best way of seeing if the groups are comparable in age?\n",
    "- Add titles, axis labels, make figures consistent, use subplots if needed\n",
    "- Save results as .pdf"
   ]
  },
  {
   "cell_type": "code",
   "execution_count": 27,
   "metadata": {},
   "outputs": [
    {
     "data": {
      "image/png": "[encoded data removed]",
      "text/plain": [
       "<Figure size 720x216 with 1 Axes>"
      ]
     },
     "metadata": {
      "needs_background": "light"
     },
     "output_type": "display_data"
    }
   ],
   "source": [
    "fig, ax = plt.subplots(figsize = (10,3)) # this line assigns a name of choice to your figure (fig) and axis objects (ax)"
   ]
  },
  {
   "cell_type": "markdown",
   "metadata": {},
   "source": [
    "The above line is good practice because it assigns a figure object and an axis object in one step. Here are some more comments on this:\n",
    "https://stackoverflow.com/questions/34162443/why-do-many-examples-use-fig-ax-plt-subplots-in-matplotlib-pyplot-python\n",
    "\n",
    "You can do many things working with just your 'current figure' (for example, you can use plt.xticks instead of plt.set_xticks). But some things you can only do using an axis object, so it's good to create it right away."
   ]
  },
  {
   "cell_type": "code",
   "execution_count": 28,
   "metadata": {},
   "outputs": [
    {
     "data": {
      "image/png": "[encoded data removed]",
      "text/plain": [
       "<Figure size 432x216 with 1 Axes>"
      ]
     },
     "metadata": {
      "needs_background": "light"
     },
     "output_type": "display_data"
    }
   ],
   "source": [
    "fig, ax = plt.subplots(figsize = (6,3)) # this line assigns a name of choice to your figure (fig) and axis objects (ax)\n",
    "plt.hist(df.Age, bins = 20, color = 'pink', label = 'Age')\n",
    "plt.xlabel('Age')\n",
    "# now this you can't do without an axis object:\n",
    "ax.spines['right'].set_visible(False) # removes axis on the right\n",
    "ax.spines['top'].set_visible(False) # removes axis on the top\n",
    "plt.tight_layout()\n",
    "plt.savefig('Age_across_groups.pdf')\n",
    "plt.show()"
   ]
  },
  {
   "cell_type": "code",
   "execution_count": 29,
   "metadata": {},
   "outputs": [
    {
     "data": {
      "image/png": "[encoded data removed]",
      "text/plain": [
       "<Figure size 432x288 with 1 Axes>"
      ]
     },
     "metadata": {
      "needs_background": "light"
     },
     "output_type": "display_data"
    }
   ],
   "source": [
    "# loop through the levels of your variable using .unique\n",
    "\n",
    "for iType in pd.unique(df.Type):\n",
    "    plt.hist(df[df.Type == iType].Age, histtype = 'step', label = iType)\n",
    "\n",
    "plt.legend(title = 'Group')\n",
    "plt.xlabel('Age')\n",
    "plt.ylabel('Number of participants')\n",
    "\n",
    "plt.show()"
   ]
  },
  {
   "cell_type": "markdown",
   "metadata": {},
   "source": [
    "The following visualizations are more complex that what you learned on Codecademy but will demonstrate what we can do in matplotlib and how.\n",
    "I recommend going through this code slowly and trying write your own version of it in parallel."
   ]
  },
  {
   "cell_type": "code",
   "execution_count": 30,
   "metadata": {},
   "outputs": [],
   "source": [
    "# plot boxplots from a list of arrays;\n",
    "# practice again: loop through the levels of your variable using .unique (same as pd.unique)\n",
    "series_values = []\n",
    "for iType in df.Type.unique():\n",
    "    series_values.append(df[df.Type==iType].Age.values) # series_values becomes a list of arrays"
   ]
  },
  {
   "cell_type": "code",
   "execution_count": 31,
   "metadata": {},
   "outputs": [
    {
     "data": {
      "text/plain": [
       "[array([47, 49, 45, 53, 31, 45, 48, 57, 55, 56, 60, 39, 53, 45, 60, 37, 65,\n",
       "        47, 61, 46, 41, 40, 48, 57, 36, 21, 41, 57, 35, 35, 51, 50, 53, 46,\n",
       "        53, 38, 42, 63, 33, 39, 23, 37, 54, 41, 40, 32, 38, 49, 29, 32, 60,\n",
       "        24, 29, 39, 51, 69, 29, 53, 63, 32, 38, 54, 37, 39, 24, 64, 55, 36,\n",
       "        31, 34]),\n",
       " array([50, 50, 60, 55, 41, 48, 37, 59, 33, 54, 52, 53, 54, 52, 73, 48, 49,\n",
       "        48, 60, 59, 62, 52, 67, 39, 56, 69, 70, 51, 49, 36, 44, 39, 50, 58,\n",
       "        50, 65, 33, 42, 51, 33, 52, 34, 66, 25, 26, 41, 53, 61, 35]),\n",
       " array([47, 49, 45, 53, 50, 31, 45, 48, 57, 50, 55, 60, 55, 41, 56, 60, 48,\n",
       "        37, 39, 59, 33, 53, 54, 45, 52, 60, 53, 37, 54, 52, 60, 62, 47, 61,\n",
       "        48, 49, 48, 50, 45, 41, 49, 48, 58, 36, 59, 61, 22, 42, 41, 53, 67,\n",
       "        35, 35, 52, 37, 50, 53, 46, 53, 56, 59, 59, 51, 38, 49, 39, 42, 62,\n",
       "        33, 39, 44, 39, 23, 37, 54, 41, 50, 58, 50, 40, 60, 32, 38, 33, 42,\n",
       "        51, 49, 33, 29, 52, 34, 32, 59, 24, 29, 39, 66, 51, 65, 29, 53, 60,\n",
       "        32, 38, 25, 54, 37, 39, 24, 59, 55, 36, 31, 26, 34, 41, 53, 55, 35]),\n",
       " array([72, 67, 66, 72, 52, 74, 53, 71, 67, 61, 70, 70, 71, 70, 69, 78, 75,\n",
       "        57, 50, 49, 65, 58, 69, 70, 66, 72, 59, 58, 57, 57, 73, 69, 64, 59,\n",
       "        53, 35, 49, 43, 64])]"
      ]
     },
     "execution_count": 31,
     "metadata": {},
     "output_type": "execute_result"
    }
   ],
   "source": [
    "series_values"
   ]
  },
  {
   "cell_type": "code",
   "execution_count": 32,
   "metadata": {},
   "outputs": [
    {
     "data": {
      "text/plain": [
       "4"
      ]
     },
     "execution_count": 32,
     "metadata": {},
     "output_type": "execute_result"
    }
   ],
   "source": [
    "len(series_values) # one array per Type"
   ]
  },
  {
   "cell_type": "code",
   "execution_count": 33,
   "metadata": {},
   "outputs": [
    {
     "data": {
      "image/png": "[encoded data removed]",
      "text/plain": [
       "<Figure size 432x288 with 1 Axes>"
      ]
     },
     "metadata": {
      "needs_background": "light"
     },
     "output_type": "display_data"
    }
   ],
   "source": [
    "ax = plt.subplot() # creates axis object but no figure object\n",
    "plt.boxplot(series_values, sym = '*', showmeans = True)\n",
    "plt.xlabel('Group')\n",
    "plt.ylabel('Age (years)')\n",
    "plt.title('Age of participants across groups')\n",
    "ax.set_xticklabels(df.Type.unique())\n",
    "\n",
    "plt.show()"
   ]
  },
  {
   "cell_type": "markdown",
   "metadata": {},
   "source": [
    "## Task 3: Visualize participants' gender:\n",
    "- how would you best visualize a categorical variable?\n",
    "- try to reproduce the following figure:"
   ]
  },
  {
   "cell_type": "code",
   "execution_count": 34,
   "metadata": {},
   "outputs": [
    {
     "data": {
      "image/png": "[encoded data removed]",
      "text/plain": [
       "<Figure size 432x288 with 5 Axes>"
      ]
     },
     "metadata": {
      "needs_background": "light"
     },
     "output_type": "display_data"
    }
   ],
   "source": [
    "# new-ish things to learn: adding subplots in a loop; adding one legend for all subplots; looping with multiple identifiers\n",
    "# practice again: looping through levels of your variable using .unique, plotting basics\n",
    "fig, axs = plt.subplots(1,1+len(df.Type.unique())) # axs is a list of subplots\n",
    "\n",
    "#print(type(axs))\n",
    "#print(axs)\n",
    "\n",
    "for iType, iPlot in zip(df.Type.unique(), range(len(df.Type.unique()))):\n",
    "    gender_count_list = []\n",
    "    gender_count_list.append(df[(df.Gender == 'W') & (df.Type == iType)].Gender.count())\n",
    "    gender_count_list.append(df[(df.Gender == 'M') & (df.Type == iType)].Gender.count())\n",
    "    # note how using _ is a pythonic way of saying you won't use this variable further\n",
    "    handles, _, _ =  axs[iPlot].pie(gender_count_list, autopct = '%d%%', textprops=dict(color=\"w\", fontweight = 'bold', fontsize = 14))\n",
    "    axs[iPlot].axis('equal')\n",
    "    axs[iPlot].set_title(iType, y=0.1)\n",
    "    if iPlot == len(df.Type.unique())-1:\n",
    "        axs[iPlot+1].legend(handles, ['M', 'W'], loc='center left') # you're adding an additional subplot\n",
    "        axs[iPlot+1].axis('off') # but you only want the legend, so we're removing the rest\n",
    "        plt.subplots_adjust(right=2)\n",
    "\n",
    "plt.show()\n",
    "fig.savefig('gender.png', bbox_inches = 'tight')"
   ]
  },
  {
   "cell_type": "markdown",
   "metadata": {},
   "source": [
    "## Task 4: Visualize the MiniPONS results:"
   ]
  },
  {
   "cell_type": "code",
   "execution_count": 35,
   "metadata": {
    "scrolled": true
   },
   "outputs": [
    {
     "data": {
      "image/png": "[encoded data removed]",
      "text/plain": [
       "<Figure size 864x864 with 9 Axes>"
      ]
     },
     "metadata": {
      "needs_background": "light"
     },
     "output_type": "display_data"
    }
   ],
   "source": [
    "# new-ish things to learn: creating functions to produce multiple identically formatted plots\n",
    "# practice again: adding subplots in a loop\n",
    "\n",
    "plot_vars = list(df.columns[3:-1]) #the column names of the variables we want to plot\n",
    "#print(dep_vars)\n",
    "fig, axs = plt.subplots(3,3, sharex=False, sharey=False, figsize=(12,12))\n",
    "\n",
    "def draw_boxplot_as_subplot(ax, plot_var):\n",
    "    plot_var_values = []\n",
    "    for iType in df.Type.unique():\n",
    "        plot_var_values.append(df[df.Type==iType][plot_var].values) # it becomes a list of arrays\n",
    "    ax.boxplot(plot_var_values, sym = '*', showmeans = True)\n",
    "    ax.set_title(plot_var)\n",
    "    ax.set_xticklabels(df.Type.unique())\n",
    "\n",
    "for ax, plot_var in zip(axs.ravel(), plot_vars):\n",
    "    draw_boxplot_as_subplot(ax, plot_var) #call the function for each variable\n",
    "    \n",
    "plt.tight_layout()\n",
    "fig.savefig('MiniPONS_by_group.pdf')"
   ]
  },
  {
   "cell_type": "markdown",
   "metadata": {},
   "source": [
    "## Task 5: Does age play a role?"
   ]
  },
  {
   "cell_type": "code",
   "execution_count": 36,
   "metadata": {},
   "outputs": [
    {
     "data": {
      "image/png": "[encoded data removed]",
      "text/plain": [
       "<Figure size 576x288 with 1 Axes>"
      ]
     },
     "metadata": {
      "needs_background": "light"
     },
     "output_type": "display_data"
    }
   ],
   "source": [
    "# new-ish things to learn: markers and color for plotting additional variables\n",
    "# practice again: looping with multiple identifiers\n",
    "fig, ax = plt.subplots(figsize = (8,4))\n",
    "for iType, marker, color in zip(df.Type.unique(), ['^', 'o', '*', '.'], ['orange', 'green', 'blue', 'red']):\n",
    "    plt.scatter(df[df.Type == iType].Age, df[df.Type == iType].Right_answers, marker=marker, color = color, alpha = 0.5, label=iType)\n",
    "plt.xlabel('Age')\n",
    "plt.ylabel('Right answers')\n",
    "plt.legend(loc = 'best', title = 'Group')\n",
    "\n",
    "plt.show()"
   ]
  },
  {
   "cell_type": "markdown",
   "metadata": {},
   "source": [
    "## Task 6: 3D plots 💥"
   ]
  },
  {
   "cell_type": "code",
   "execution_count": 37,
   "metadata": {},
   "outputs": [
    {
     "data": {
      "image/png": "[encoded data removed]",
      "text/plain": [
       "<Figure size 432x288 with 1 Axes>"
      ]
     },
     "metadata": {
      "needs_background": "light"
     },
     "output_type": "display_data"
    }
   ],
   "source": [
    "# 3d plot: right answers, by age\n",
    "from mpl_toolkits.mplot3d import Axes3D\n",
    "\n",
    "fig3d = plt.figure()\n",
    "ax3d = fig3d.add_subplot(111, projection='3d')\n",
    "for gender, marker in zip(df.Gender.unique(), ['^', 'o']):\n",
    "    gender_UD_data = df[(df.Type == 'UD') & (df.Gender == gender)]\n",
    "    ax3d.scatter(gender_UD_data.Age, gender_UD_data.Right_answers, gender_UD_data.Submissive, marker = marker, label = gender)\n",
    "\n",
    "ax3d.set_xlabel('Age')\n",
    "ax3d.set_ylabel('Right answers')\n",
    "ax3d.set_zlabel('Score: Submissive')\n",
    "ax3d.legend(loc = 'upper left', title = 'Gender')\n",
    "\n",
    "plt.show()"
   ]
  }
 ],
 "metadata": {
  "kernelspec": {
   "display_name": "Python 3",
   "language": "python",
   "name": "python3"
  },
  "language_info": {
   "codemirror_mode": {
    "name": "ipython",
    "version": 3
   },
   "file_extension": ".py",
   "mimetype": "text/x-python",
   "name": "python",
   "nbconvert_exporter": "python",
   "pygments_lexer": "ipython3",
   "version": "3.6.10"
  }
 },
 "nbformat": 4,
 "nbformat_minor": 2
}
